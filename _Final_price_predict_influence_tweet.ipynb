{
  "nbformat": 4,
  "nbformat_minor": 0,
  "metadata": {
    "colab": {
      "name": "\bFinal_price_predict_influence_tweet.ipynb",
      "provenance": [],
      "collapsed_sections": []
    },
    "kernelspec": {
      "name": "python3",
      "display_name": "Python 3"
    },
    "language_info": {
      "name": "python"
    }
  },
  "cells": [
    {
      "cell_type": "markdown",
      "source": [
        "# CP1 프로젝트"
      ],
      "metadata": {
        "id": "Y3gXQMFQh4tl"
      }
    },
    {
      "cell_type": "markdown",
      "source": [
        "## moldule"
      ],
      "metadata": {
        "id": "o6WLsFjXadw8"
      }
    },
    {
      "cell_type": "code",
      "source": [
        "#pip install ccxt"
      ],
      "metadata": {
        "id": "hai-gqEH0IFA"
      },
      "execution_count": null,
      "outputs": []
    },
    {
      "cell_type": "code",
      "source": [
        "from datetime import datetime\n",
        "import time\n",
        "import matplotlib.pyplot as plt\n",
        "import requests\n",
        "import numpy as np \n",
        "import pandas as pd \n",
        "import os\n",
        "import pprint\n",
        "\n",
        "# sklearn\n",
        "from sklearn.preprocessing import MinMaxScaler\n",
        "from sklearn.model_selection import train_test_split\n",
        "\n",
        "# tensorflow\n",
        "import tensorflow as tf\n",
        "from tensorflow.keras.models import load_model\n",
        "from tensorflow.keras.preprocessing.sequence import pad_sequences\n",
        "from keras.models import Sequential\n",
        "from keras.layers import Dense\n",
        "from keras.callbacks import EarlyStopping, ModelCheckpoint\n",
        "from keras.layers import LSTM\n",
        "from tensorflow.keras.preprocessing.text import text_to_word_sequence\n",
        "\n",
        "# Natural Language toolkit\n",
        "import nltk\n",
        "from nltk.corpus import stopwords\n",
        "\n",
        "# tweeter module\n",
        "import tweepy\n",
        "\n",
        "# binance module\n",
        "import ccxt\n",
        "\n",
        "# pickle\n",
        "import pickle"
      ],
      "metadata": {
        "id": "S02Mq_enajlW"
      },
      "execution_count": 57,
      "outputs": []
    },
    {
      "cell_type": "markdown",
      "source": [
        "## 비트코인 주가 예측"
      ],
      "metadata": {
        "id": "LnQldWX_h8in"
      }
    },
    {
      "cell_type": "code",
      "source": [
        "# start time ~ end time 까지의 data를 DataFrame화\n",
        "COLUMNS = ['Open_time', 'Open', 'High', 'Low', 'Close', 'Volume', 'Close_time', 'quote_av', 'trades', \n",
        "                   'tb_base_av', 'tb_quote_av', 'ignore']\n",
        "URL = 'https://api.binance.com/api/v3/klines'\n",
        "def get_data(start_date, end_date, symbol):\n",
        "    data = []\n",
        "    \n",
        "    start = int(time.mktime(datetime.strptime(start_date + ' 00:00', '%Y-%m-%d %H:%M').timetuple())) * 1000\n",
        "    end = int(time.mktime(datetime.strptime(end_date +' 23:59', '%Y-%m-%d %H:%M').timetuple())) * 1000\n",
        "    params = {\n",
        "        'symbol': symbol,\n",
        "        'interval': '1h',\n",
        "        'limit': 1000,\n",
        "        'startTime': start,\n",
        "        'endTime': end\n",
        "    }\n",
        "    \n",
        "    while start < end:\n",
        "        print(datetime.fromtimestamp(start // 1000))\n",
        "        params['startTime'] = start\n",
        "        result = requests.get(URL, params = params)\n",
        "        js = result.json()\n",
        "        if not js:\n",
        "            break\n",
        "        data.extend(js)  # result에 저장\n",
        "        start = js[-1][0] + 60000  # 다음 step으로\n",
        "    # 전처리\n",
        "    if not data:  # 해당 기간에 데이터가 없는 경우\n",
        "        print('해당 기간에 일치하는 데이터가 없습니다.')\n",
        "        return -1\n",
        "    df = pd.DataFrame(data)\n",
        "    df.columns = COLUMNS\n",
        "    df['Open_time'] = df.apply(lambda x:datetime.fromtimestamp(x['Open_time'] // 1000), axis=1)\n",
        "    df = df.drop(columns = ['Close_time', 'ignore'])\n",
        "    df['Symbol'] = symbol\n",
        "    df.loc[:, 'Open':'tb_quote_av'] = df.loc[:, 'Open':'tb_quote_av'].astype(float)  # string to float\n",
        "    df['trades'] = df['trades'].astype(int)\n",
        "    return df\n",
        "\n",
        "start_date = '2021-12-21'\n",
        "end_date = '2021-12-22'\n",
        "symbol = 'BTCUSDT'\n",
        "btcdata = get_data(start_date, end_date, symbol)"
      ],
      "metadata": {
        "colab": {
          "base_uri": "https://localhost:8080/"
        },
        "id": "kHbJwXCDcos1",
        "outputId": "62f188b4-01fa-422f-c34e-76b7c4589257"
      },
      "execution_count": null,
      "outputs": [
        {
          "output_type": "stream",
          "name": "stdout",
          "text": [
            "2021-12-21 00:00:00\n",
            "2021-12-21 17:01:00\n"
          ]
        }
      ]
    },
    {
      "cell_type": "code",
      "source": [
        "# get_data 함수를 통해 2021-12-20까지의 data를 csv로 저장해둠. \n",
        "# 불러와서 사용\n",
        "filepath = '/content/drive/MyDrive/AI_bootcamp/CP1/BTCDATA_20211220.csv'\n",
        "df = pd.read_csv(filepath)\n",
        "\n",
        "# BTCDATA_20211220 + btcdata \n",
        "df_concat = pd.concat([df,btcdata])\n",
        "df_concat.reset_index(drop=True, inplace=True)"
      ],
      "metadata": {
        "colab": {
          "base_uri": "https://localhost:8080/",
          "height": 206
        },
        "id": "7mbQ6SvHc50b",
        "outputId": "0a3954bc-4c7a-41c8-8737-a7db0eac79f7"
      },
      "execution_count": null,
      "outputs": [
        {
          "output_type": "execute_result",
          "data": {
            "text/html": [
              "\n",
              "  <div id=\"df-d17de9e2-837b-4df9-9d26-f47497dcf2bc\">\n",
              "    <div class=\"colab-df-container\">\n",
              "      <div>\n",
              "<style scoped>\n",
              "    .dataframe tbody tr th:only-of-type {\n",
              "        vertical-align: middle;\n",
              "    }\n",
              "\n",
              "    .dataframe tbody tr th {\n",
              "        vertical-align: top;\n",
              "    }\n",
              "\n",
              "    .dataframe thead th {\n",
              "        text-align: right;\n",
              "    }\n",
              "</style>\n",
              "<table border=\"1\" class=\"dataframe\">\n",
              "  <thead>\n",
              "    <tr style=\"text-align: right;\">\n",
              "      <th></th>\n",
              "      <th>Open_time</th>\n",
              "      <th>Open</th>\n",
              "      <th>High</th>\n",
              "      <th>Low</th>\n",
              "      <th>Close</th>\n",
              "      <th>Volume</th>\n",
              "      <th>quote_av</th>\n",
              "      <th>trades</th>\n",
              "      <th>tb_base_av</th>\n",
              "      <th>tb_quote_av</th>\n",
              "      <th>Symbol</th>\n",
              "    </tr>\n",
              "  </thead>\n",
              "  <tbody>\n",
              "    <tr>\n",
              "      <th>37597</th>\n",
              "      <td>2021-12-20 19:00:00</td>\n",
              "      <td>46268.58</td>\n",
              "      <td>46690.00</td>\n",
              "      <td>46240.01</td>\n",
              "      <td>46585.55</td>\n",
              "      <td>1717.22917</td>\n",
              "      <td>7.983381e+07</td>\n",
              "      <td>52616</td>\n",
              "      <td>912.50628</td>\n",
              "      <td>4.241481e+07</td>\n",
              "      <td>BTCUSDT</td>\n",
              "    </tr>\n",
              "    <tr>\n",
              "      <th>37598</th>\n",
              "      <td>2021-12-20 20:00:00</td>\n",
              "      <td>46585.56</td>\n",
              "      <td>47246.00</td>\n",
              "      <td>46585.55</td>\n",
              "      <td>47021.02</td>\n",
              "      <td>2240.77932</td>\n",
              "      <td>1.050808e+08</td>\n",
              "      <td>60166</td>\n",
              "      <td>1120.62133</td>\n",
              "      <td>5.255614e+07</td>\n",
              "      <td>BTCUSDT</td>\n",
              "    </tr>\n",
              "    <tr>\n",
              "      <th>37599</th>\n",
              "      <td>2021-12-20 21:00:00</td>\n",
              "      <td>47020.99</td>\n",
              "      <td>47537.57</td>\n",
              "      <td>46956.89</td>\n",
              "      <td>46961.23</td>\n",
              "      <td>2309.70816</td>\n",
              "      <td>1.090779e+08</td>\n",
              "      <td>61232</td>\n",
              "      <td>1229.39207</td>\n",
              "      <td>5.808346e+07</td>\n",
              "      <td>BTCUSDT</td>\n",
              "    </tr>\n",
              "    <tr>\n",
              "      <th>37600</th>\n",
              "      <td>2021-12-20 22:00:00</td>\n",
              "      <td>46962.64</td>\n",
              "      <td>47108.92</td>\n",
              "      <td>46717.55</td>\n",
              "      <td>46757.69</td>\n",
              "      <td>727.72223</td>\n",
              "      <td>3.414635e+07</td>\n",
              "      <td>31339</td>\n",
              "      <td>342.63711</td>\n",
              "      <td>1.607915e+07</td>\n",
              "      <td>BTCUSDT</td>\n",
              "    </tr>\n",
              "    <tr>\n",
              "      <th>37601</th>\n",
              "      <td>2021-12-20 23:00:00</td>\n",
              "      <td>46757.70</td>\n",
              "      <td>47096.96</td>\n",
              "      <td>46747.84</td>\n",
              "      <td>46914.16</td>\n",
              "      <td>1028.84754</td>\n",
              "      <td>4.825859e+07</td>\n",
              "      <td>28018</td>\n",
              "      <td>531.17144</td>\n",
              "      <td>2.491096e+07</td>\n",
              "      <td>BTCUSDT</td>\n",
              "    </tr>\n",
              "  </tbody>\n",
              "</table>\n",
              "</div>\n",
              "      <button class=\"colab-df-convert\" onclick=\"convertToInteractive('df-d17de9e2-837b-4df9-9d26-f47497dcf2bc')\"\n",
              "              title=\"Convert this dataframe to an interactive table.\"\n",
              "              style=\"display:none;\">\n",
              "        \n",
              "  <svg xmlns=\"http://www.w3.org/2000/svg\" height=\"24px\"viewBox=\"0 0 24 24\"\n",
              "       width=\"24px\">\n",
              "    <path d=\"M0 0h24v24H0V0z\" fill=\"none\"/>\n",
              "    <path d=\"M18.56 5.44l.94 2.06.94-2.06 2.06-.94-2.06-.94-.94-2.06-.94 2.06-2.06.94zm-11 1L8.5 8.5l.94-2.06 2.06-.94-2.06-.94L8.5 2.5l-.94 2.06-2.06.94zm10 10l.94 2.06.94-2.06 2.06-.94-2.06-.94-.94-2.06-.94 2.06-2.06.94z\"/><path d=\"M17.41 7.96l-1.37-1.37c-.4-.4-.92-.59-1.43-.59-.52 0-1.04.2-1.43.59L10.3 9.45l-7.72 7.72c-.78.78-.78 2.05 0 2.83L4 21.41c.39.39.9.59 1.41.59.51 0 1.02-.2 1.41-.59l7.78-7.78 2.81-2.81c.8-.78.8-2.07 0-2.86zM5.41 20L4 18.59l7.72-7.72 1.47 1.35L5.41 20z\"/>\n",
              "  </svg>\n",
              "      </button>\n",
              "      \n",
              "  <style>\n",
              "    .colab-df-container {\n",
              "      display:flex;\n",
              "      flex-wrap:wrap;\n",
              "      gap: 12px;\n",
              "    }\n",
              "\n",
              "    .colab-df-convert {\n",
              "      background-color: #E8F0FE;\n",
              "      border: none;\n",
              "      border-radius: 50%;\n",
              "      cursor: pointer;\n",
              "      display: none;\n",
              "      fill: #1967D2;\n",
              "      height: 32px;\n",
              "      padding: 0 0 0 0;\n",
              "      width: 32px;\n",
              "    }\n",
              "\n",
              "    .colab-df-convert:hover {\n",
              "      background-color: #E2EBFA;\n",
              "      box-shadow: 0px 1px 2px rgba(60, 64, 67, 0.3), 0px 1px 3px 1px rgba(60, 64, 67, 0.15);\n",
              "      fill: #174EA6;\n",
              "    }\n",
              "\n",
              "    [theme=dark] .colab-df-convert {\n",
              "      background-color: #3B4455;\n",
              "      fill: #D2E3FC;\n",
              "    }\n",
              "\n",
              "    [theme=dark] .colab-df-convert:hover {\n",
              "      background-color: #434B5C;\n",
              "      box-shadow: 0px 1px 3px 1px rgba(0, 0, 0, 0.15);\n",
              "      filter: drop-shadow(0px 1px 2px rgba(0, 0, 0, 0.3));\n",
              "      fill: #FFFFFF;\n",
              "    }\n",
              "  </style>\n",
              "\n",
              "      <script>\n",
              "        const buttonEl =\n",
              "          document.querySelector('#df-d17de9e2-837b-4df9-9d26-f47497dcf2bc button.colab-df-convert');\n",
              "        buttonEl.style.display =\n",
              "          google.colab.kernel.accessAllowed ? 'block' : 'none';\n",
              "\n",
              "        async function convertToInteractive(key) {\n",
              "          const element = document.querySelector('#df-d17de9e2-837b-4df9-9d26-f47497dcf2bc');\n",
              "          const dataTable =\n",
              "            await google.colab.kernel.invokeFunction('convertToInteractive',\n",
              "                                                     [key], {});\n",
              "          if (!dataTable) return;\n",
              "\n",
              "          const docLinkHtml = 'Like what you see? Visit the ' +\n",
              "            '<a target=\"_blank\" href=https://colab.research.google.com/notebooks/data_table.ipynb>data table notebook</a>'\n",
              "            + ' to learn more about interactive tables.';\n",
              "          element.innerHTML = '';\n",
              "          dataTable['output_type'] = 'display_data';\n",
              "          await google.colab.output.renderOutput(dataTable, element);\n",
              "          const docLink = document.createElement('div');\n",
              "          docLink.innerHTML = docLinkHtml;\n",
              "          element.appendChild(docLink);\n",
              "        }\n",
              "      </script>\n",
              "    </div>\n",
              "  </div>\n",
              "  "
            ],
            "text/plain": [
              "                 Open_time      Open  ...   tb_quote_av   Symbol\n",
              "37597  2021-12-20 19:00:00  46268.58  ...  4.241481e+07  BTCUSDT\n",
              "37598  2021-12-20 20:00:00  46585.56  ...  5.255614e+07  BTCUSDT\n",
              "37599  2021-12-20 21:00:00  47020.99  ...  5.808346e+07  BTCUSDT\n",
              "37600  2021-12-20 22:00:00  46962.64  ...  1.607915e+07  BTCUSDT\n",
              "37601  2021-12-20 23:00:00  46757.70  ...  2.491096e+07  BTCUSDT\n",
              "\n",
              "[5 rows x 11 columns]"
            ]
          },
          "metadata": {},
          "execution_count": 4
        }
      ]
    },
    {
      "cell_type": "code",
      "source": [
        "df = df_concat.copy()\n",
        "\n",
        "# 필요한 columns만 추출 및 columns rename\n",
        "df = df.loc[:,['Open_time','Open','High','Low','Close','Volume']]\n",
        "df.columns = ['date','open','high','low','close','volume']\n",
        "df.tail()"
      ],
      "metadata": {
        "colab": {
          "base_uri": "https://localhost:8080/",
          "height": 206
        },
        "id": "U1-8yEXAecfS",
        "outputId": "60b2aa9a-fbdc-40a7-e1a3-fb4e146834f1"
      },
      "execution_count": null,
      "outputs": [
        {
          "output_type": "execute_result",
          "data": {
            "text/html": [
              "\n",
              "  <div id=\"df-d679e38d-e1dc-45f5-831c-2e86b5e5964b\">\n",
              "    <div class=\"colab-df-container\">\n",
              "      <div>\n",
              "<style scoped>\n",
              "    .dataframe tbody tr th:only-of-type {\n",
              "        vertical-align: middle;\n",
              "    }\n",
              "\n",
              "    .dataframe tbody tr th {\n",
              "        vertical-align: top;\n",
              "    }\n",
              "\n",
              "    .dataframe thead th {\n",
              "        text-align: right;\n",
              "    }\n",
              "</style>\n",
              "<table border=\"1\" class=\"dataframe\">\n",
              "  <thead>\n",
              "    <tr style=\"text-align: right;\">\n",
              "      <th></th>\n",
              "      <th>date</th>\n",
              "      <th>open</th>\n",
              "      <th>high</th>\n",
              "      <th>low</th>\n",
              "      <th>close</th>\n",
              "      <th>volume</th>\n",
              "    </tr>\n",
              "  </thead>\n",
              "  <tbody>\n",
              "    <tr>\n",
              "      <th>37615</th>\n",
              "      <td>2021-12-21 13:00:00</td>\n",
              "      <td>48735.49</td>\n",
              "      <td>48970.88</td>\n",
              "      <td>48575.09</td>\n",
              "      <td>48909.49</td>\n",
              "      <td>1564.00435</td>\n",
              "    </tr>\n",
              "    <tr>\n",
              "      <th>37616</th>\n",
              "      <td>2021-12-21 14:00:00</td>\n",
              "      <td>48909.49</td>\n",
              "      <td>48966.20</td>\n",
              "      <td>48520.00</td>\n",
              "      <td>48624.01</td>\n",
              "      <td>1453.20324</td>\n",
              "    </tr>\n",
              "    <tr>\n",
              "      <th>37617</th>\n",
              "      <td>2021-12-21 15:00:00</td>\n",
              "      <td>48624.01</td>\n",
              "      <td>48788.87</td>\n",
              "      <td>48265.24</td>\n",
              "      <td>48418.49</td>\n",
              "      <td>2209.08606</td>\n",
              "    </tr>\n",
              "    <tr>\n",
              "      <th>37618</th>\n",
              "      <td>2021-12-21 16:00:00</td>\n",
              "      <td>48418.48</td>\n",
              "      <td>48746.97</td>\n",
              "      <td>48381.57</td>\n",
              "      <td>48685.19</td>\n",
              "      <td>1137.16935</td>\n",
              "    </tr>\n",
              "    <tr>\n",
              "      <th>37619</th>\n",
              "      <td>2021-12-21 17:00:00</td>\n",
              "      <td>48685.18</td>\n",
              "      <td>48876.94</td>\n",
              "      <td>48570.32</td>\n",
              "      <td>48616.92</td>\n",
              "      <td>908.48504</td>\n",
              "    </tr>\n",
              "  </tbody>\n",
              "</table>\n",
              "</div>\n",
              "      <button class=\"colab-df-convert\" onclick=\"convertToInteractive('df-d679e38d-e1dc-45f5-831c-2e86b5e5964b')\"\n",
              "              title=\"Convert this dataframe to an interactive table.\"\n",
              "              style=\"display:none;\">\n",
              "        \n",
              "  <svg xmlns=\"http://www.w3.org/2000/svg\" height=\"24px\"viewBox=\"0 0 24 24\"\n",
              "       width=\"24px\">\n",
              "    <path d=\"M0 0h24v24H0V0z\" fill=\"none\"/>\n",
              "    <path d=\"M18.56 5.44l.94 2.06.94-2.06 2.06-.94-2.06-.94-.94-2.06-.94 2.06-2.06.94zm-11 1L8.5 8.5l.94-2.06 2.06-.94-2.06-.94L8.5 2.5l-.94 2.06-2.06.94zm10 10l.94 2.06.94-2.06 2.06-.94-2.06-.94-.94-2.06-.94 2.06-2.06.94z\"/><path d=\"M17.41 7.96l-1.37-1.37c-.4-.4-.92-.59-1.43-.59-.52 0-1.04.2-1.43.59L10.3 9.45l-7.72 7.72c-.78.78-.78 2.05 0 2.83L4 21.41c.39.39.9.59 1.41.59.51 0 1.02-.2 1.41-.59l7.78-7.78 2.81-2.81c.8-.78.8-2.07 0-2.86zM5.41 20L4 18.59l7.72-7.72 1.47 1.35L5.41 20z\"/>\n",
              "  </svg>\n",
              "      </button>\n",
              "      \n",
              "  <style>\n",
              "    .colab-df-container {\n",
              "      display:flex;\n",
              "      flex-wrap:wrap;\n",
              "      gap: 12px;\n",
              "    }\n",
              "\n",
              "    .colab-df-convert {\n",
              "      background-color: #E8F0FE;\n",
              "      border: none;\n",
              "      border-radius: 50%;\n",
              "      cursor: pointer;\n",
              "      display: none;\n",
              "      fill: #1967D2;\n",
              "      height: 32px;\n",
              "      padding: 0 0 0 0;\n",
              "      width: 32px;\n",
              "    }\n",
              "\n",
              "    .colab-df-convert:hover {\n",
              "      background-color: #E2EBFA;\n",
              "      box-shadow: 0px 1px 2px rgba(60, 64, 67, 0.3), 0px 1px 3px 1px rgba(60, 64, 67, 0.15);\n",
              "      fill: #174EA6;\n",
              "    }\n",
              "\n",
              "    [theme=dark] .colab-df-convert {\n",
              "      background-color: #3B4455;\n",
              "      fill: #D2E3FC;\n",
              "    }\n",
              "\n",
              "    [theme=dark] .colab-df-convert:hover {\n",
              "      background-color: #434B5C;\n",
              "      box-shadow: 0px 1px 3px 1px rgba(0, 0, 0, 0.15);\n",
              "      filter: drop-shadow(0px 1px 2px rgba(0, 0, 0, 0.3));\n",
              "      fill: #FFFFFF;\n",
              "    }\n",
              "  </style>\n",
              "\n",
              "      <script>\n",
              "        const buttonEl =\n",
              "          document.querySelector('#df-d679e38d-e1dc-45f5-831c-2e86b5e5964b button.colab-df-convert');\n",
              "        buttonEl.style.display =\n",
              "          google.colab.kernel.accessAllowed ? 'block' : 'none';\n",
              "\n",
              "        async function convertToInteractive(key) {\n",
              "          const element = document.querySelector('#df-d679e38d-e1dc-45f5-831c-2e86b5e5964b');\n",
              "          const dataTable =\n",
              "            await google.colab.kernel.invokeFunction('convertToInteractive',\n",
              "                                                     [key], {});\n",
              "          if (!dataTable) return;\n",
              "\n",
              "          const docLinkHtml = 'Like what you see? Visit the ' +\n",
              "            '<a target=\"_blank\" href=https://colab.research.google.com/notebooks/data_table.ipynb>data table notebook</a>'\n",
              "            + ' to learn more about interactive tables.';\n",
              "          element.innerHTML = '';\n",
              "          dataTable['output_type'] = 'display_data';\n",
              "          await google.colab.output.renderOutput(dataTable, element);\n",
              "          const docLink = document.createElement('div');\n",
              "          docLink.innerHTML = docLinkHtml;\n",
              "          element.appendChild(docLink);\n",
              "        }\n",
              "      </script>\n",
              "    </div>\n",
              "  </div>\n",
              "  "
            ],
            "text/plain": [
              "                      date      open      high       low     close      volume\n",
              "37615  2021-12-21 13:00:00  48735.49  48970.88  48575.09  48909.49  1564.00435\n",
              "37616  2021-12-21 14:00:00  48909.49  48966.20  48520.00  48624.01  1453.20324\n",
              "37617  2021-12-21 15:00:00  48624.01  48788.87  48265.24  48418.49  2209.08606\n",
              "37618  2021-12-21 16:00:00  48418.48  48746.97  48381.57  48685.19  1137.16935\n",
              "37619  2021-12-21 17:00:00  48685.18  48876.94  48570.32  48616.92   908.48504"
            ]
          },
          "metadata": {},
          "execution_count": 6
        }
      ]
    },
    {
      "cell_type": "code",
      "source": [
        "# scaler\n",
        "scaler = MinMaxScaler()\n",
        "# volume과 price를 나누어 scaler \n",
        "# -> volume이 너무 크기 때문에 volume의 영향을 크게 받을 수 있기 때문\n",
        "scale_cols_exvol = ['open', 'high', 'low', 'close'] \n",
        "scale_cols_vol = ['volume']\n",
        "\n",
        "df_exvol_scaled = pd.DataFrame(scaler.fit_transform(df[scale_cols_exvol]))\n",
        "df_vol_scaled = pd.DataFrame(scaler.fit_transform(df[scale_cols_vol]))\n",
        "\n",
        "df_scaled = pd.concat([df_exvol_scaled,df_vol_scaled], axis=1)\n",
        "df_scaled.columns = scale_cols_exvol + scale_cols_vol\n",
        "\n",
        "df_scaled.head()"
      ],
      "metadata": {
        "colab": {
          "base_uri": "https://localhost:8080/",
          "height": 206
        },
        "id": "CfpJdwJVeruU",
        "outputId": "0e4be02c-3e13-45c7-c87b-e0757811e288"
      },
      "execution_count": null,
      "outputs": [
        {
          "output_type": "execute_result",
          "data": {
            "text/html": [
              "\n",
              "  <div id=\"df-b10dd0a8-b393-431f-9dc6-7d087a26240a\">\n",
              "    <div class=\"colab-df-container\">\n",
              "      <div>\n",
              "<style scoped>\n",
              "    .dataframe tbody tr th:only-of-type {\n",
              "        vertical-align: middle;\n",
              "    }\n",
              "\n",
              "    .dataframe tbody tr th {\n",
              "        vertical-align: top;\n",
              "    }\n",
              "\n",
              "    .dataframe thead th {\n",
              "        text-align: right;\n",
              "    }\n",
              "</style>\n",
              "<table border=\"1\" class=\"dataframe\">\n",
              "  <thead>\n",
              "    <tr style=\"text-align: right;\">\n",
              "      <th></th>\n",
              "      <th>open</th>\n",
              "      <th>high</th>\n",
              "      <th>low</th>\n",
              "      <th>close</th>\n",
              "      <th>volume</th>\n",
              "    </tr>\n",
              "  </thead>\n",
              "  <tbody>\n",
              "    <tr>\n",
              "      <th>0</th>\n",
              "      <td>0.027659</td>\n",
              "      <td>0.027182</td>\n",
              "      <td>0.028535</td>\n",
              "      <td>0.027422</td>\n",
              "      <td>0.000332</td>\n",
              "    </tr>\n",
              "    <tr>\n",
              "      <th>1</th>\n",
              "      <td>0.028270</td>\n",
              "      <td>0.027509</td>\n",
              "      <td>0.028706</td>\n",
              "      <td>0.027482</td>\n",
              "      <td>0.000595</td>\n",
              "    </tr>\n",
              "    <tr>\n",
              "      <th>2</th>\n",
              "      <td>0.028436</td>\n",
              "      <td>0.027509</td>\n",
              "      <td>0.029040</td>\n",
              "      <td>0.027649</td>\n",
              "      <td>0.000320</td>\n",
              "    </tr>\n",
              "    <tr>\n",
              "      <th>3</th>\n",
              "      <td>0.028832</td>\n",
              "      <td>0.027509</td>\n",
              "      <td>0.028898</td>\n",
              "      <td>0.027326</td>\n",
              "      <td>0.000353</td>\n",
              "    </tr>\n",
              "    <tr>\n",
              "      <th>4</th>\n",
              "      <td>0.028037</td>\n",
              "      <td>0.027025</td>\n",
              "      <td>0.028263</td>\n",
              "      <td>0.026676</td>\n",
              "      <td>0.000864</td>\n",
              "    </tr>\n",
              "  </tbody>\n",
              "</table>\n",
              "</div>\n",
              "      <button class=\"colab-df-convert\" onclick=\"convertToInteractive('df-b10dd0a8-b393-431f-9dc6-7d087a26240a')\"\n",
              "              title=\"Convert this dataframe to an interactive table.\"\n",
              "              style=\"display:none;\">\n",
              "        \n",
              "  <svg xmlns=\"http://www.w3.org/2000/svg\" height=\"24px\"viewBox=\"0 0 24 24\"\n",
              "       width=\"24px\">\n",
              "    <path d=\"M0 0h24v24H0V0z\" fill=\"none\"/>\n",
              "    <path d=\"M18.56 5.44l.94 2.06.94-2.06 2.06-.94-2.06-.94-.94-2.06-.94 2.06-2.06.94zm-11 1L8.5 8.5l.94-2.06 2.06-.94-2.06-.94L8.5 2.5l-.94 2.06-2.06.94zm10 10l.94 2.06.94-2.06 2.06-.94-2.06-.94-.94-2.06-.94 2.06-2.06.94z\"/><path d=\"M17.41 7.96l-1.37-1.37c-.4-.4-.92-.59-1.43-.59-.52 0-1.04.2-1.43.59L10.3 9.45l-7.72 7.72c-.78.78-.78 2.05 0 2.83L4 21.41c.39.39.9.59 1.41.59.51 0 1.02-.2 1.41-.59l7.78-7.78 2.81-2.81c.8-.78.8-2.07 0-2.86zM5.41 20L4 18.59l7.72-7.72 1.47 1.35L5.41 20z\"/>\n",
              "  </svg>\n",
              "      </button>\n",
              "      \n",
              "  <style>\n",
              "    .colab-df-container {\n",
              "      display:flex;\n",
              "      flex-wrap:wrap;\n",
              "      gap: 12px;\n",
              "    }\n",
              "\n",
              "    .colab-df-convert {\n",
              "      background-color: #E8F0FE;\n",
              "      border: none;\n",
              "      border-radius: 50%;\n",
              "      cursor: pointer;\n",
              "      display: none;\n",
              "      fill: #1967D2;\n",
              "      height: 32px;\n",
              "      padding: 0 0 0 0;\n",
              "      width: 32px;\n",
              "    }\n",
              "\n",
              "    .colab-df-convert:hover {\n",
              "      background-color: #E2EBFA;\n",
              "      box-shadow: 0px 1px 2px rgba(60, 64, 67, 0.3), 0px 1px 3px 1px rgba(60, 64, 67, 0.15);\n",
              "      fill: #174EA6;\n",
              "    }\n",
              "\n",
              "    [theme=dark] .colab-df-convert {\n",
              "      background-color: #3B4455;\n",
              "      fill: #D2E3FC;\n",
              "    }\n",
              "\n",
              "    [theme=dark] .colab-df-convert:hover {\n",
              "      background-color: #434B5C;\n",
              "      box-shadow: 0px 1px 3px 1px rgba(0, 0, 0, 0.15);\n",
              "      filter: drop-shadow(0px 1px 2px rgba(0, 0, 0, 0.3));\n",
              "      fill: #FFFFFF;\n",
              "    }\n",
              "  </style>\n",
              "\n",
              "      <script>\n",
              "        const buttonEl =\n",
              "          document.querySelector('#df-b10dd0a8-b393-431f-9dc6-7d087a26240a button.colab-df-convert');\n",
              "        buttonEl.style.display =\n",
              "          google.colab.kernel.accessAllowed ? 'block' : 'none';\n",
              "\n",
              "        async function convertToInteractive(key) {\n",
              "          const element = document.querySelector('#df-b10dd0a8-b393-431f-9dc6-7d087a26240a');\n",
              "          const dataTable =\n",
              "            await google.colab.kernel.invokeFunction('convertToInteractive',\n",
              "                                                     [key], {});\n",
              "          if (!dataTable) return;\n",
              "\n",
              "          const docLinkHtml = 'Like what you see? Visit the ' +\n",
              "            '<a target=\"_blank\" href=https://colab.research.google.com/notebooks/data_table.ipynb>data table notebook</a>'\n",
              "            + ' to learn more about interactive tables.';\n",
              "          element.innerHTML = '';\n",
              "          dataTable['output_type'] = 'display_data';\n",
              "          await google.colab.output.renderOutput(dataTable, element);\n",
              "          const docLink = document.createElement('div');\n",
              "          docLink.innerHTML = docLinkHtml;\n",
              "          element.appendChild(docLink);\n",
              "        }\n",
              "      </script>\n",
              "    </div>\n",
              "  </div>\n",
              "  "
            ],
            "text/plain": [
              "       open      high       low     close    volume\n",
              "0  0.027659  0.027182  0.028535  0.027422  0.000332\n",
              "1  0.028270  0.027509  0.028706  0.027482  0.000595\n",
              "2  0.028436  0.027509  0.029040  0.027649  0.000320\n",
              "3  0.028832  0.027509  0.028898  0.027326  0.000353\n",
              "4  0.028037  0.027025  0.028263  0.026676  0.000864"
            ]
          },
          "metadata": {},
          "execution_count": 7
        }
      ]
    },
    {
      "cell_type": "code",
      "source": [
        "# test size = 0.2 \n",
        "TEST_SIZE = int(len(df)*0.2)\n",
        "WINDOW_SIZE = 20\n",
        "\n",
        "train = df_scaled[:-TEST_SIZE]\n",
        "test = df_scaled[-TEST_SIZE:]"
      ],
      "metadata": {
        "id": "1-iRMyhPeyOb"
      },
      "execution_count": null,
      "outputs": []
    },
    {
      "cell_type": "code",
      "source": [
        "# window size 만큼의 데이터로 다음의 close를 예측하기 위해\n",
        "# 20개 간격의 dataset을 만듦\n",
        "def make_dataset(data, label, window_size=20):\n",
        "    feature_list = []\n",
        "    label_list = []\n",
        "    for i in range(len(data) - window_size):\n",
        "        feature_list.append(np.array(data.iloc[i:i+window_size]))\n",
        "        label_list.append(np.array(label.iloc[i+window_size]))\n",
        "    return np.array(feature_list), np.array(label_list)"
      ],
      "metadata": {
        "id": "EZsY0obJe1Ds"
      },
      "execution_count": null,
      "outputs": []
    },
    {
      "cell_type": "code",
      "source": [
        "# target 선정 및 make train, valid, test dataset \n",
        "feature_cols = ['open','high','low','volume']\n",
        "label_cols = ['close']\n",
        "\n",
        "# train dataset\n",
        "train_feature = train[feature_cols]\n",
        "train_label = train[label_cols]\n",
        "train_feature, train_label = make_dataset(train_feature, train_label, 20)\n",
        "\n",
        "# train, valid dataset\n",
        "x_train, x_valid, y_train, y_valid = train_test_split(train_feature, train_label, test_size=0.2)\n",
        "\n",
        "# test dataset\n",
        "test_feature = test[feature_cols]\n",
        "test_label = test[label_cols]\n",
        "test_feature, test_label = make_dataset(test_feature, test_label, 20)"
      ],
      "metadata": {
        "id": "F7eKETECe2Xy"
      },
      "execution_count": null,
      "outputs": []
    },
    {
      "cell_type": "code",
      "source": [
        "# make model\n",
        "model = Sequential()\n",
        "model.add(LSTM(16, \n",
        "               input_shape=(train_feature.shape[1], train_feature.shape[2]), \n",
        "               activation='relu', \n",
        "               return_sequences=False)\n",
        "          )\n",
        "\n",
        "model.add(Dense(1))"
      ],
      "metadata": {
        "id": "VO4MRRjyfbqA"
      },
      "execution_count": null,
      "outputs": []
    },
    {
      "cell_type": "code",
      "source": [
        "# loss = MSE , optimizer = adam, early_stop 적용\n",
        "model.compile(loss='mean_squared_error', optimizer='adam')\n",
        "early_stop = EarlyStopping(monitor='val_loss', patience=5)\n",
        "\n",
        "# checkpoint\n",
        "model_path = 'model'\n",
        "filename = os.path.join(model_path, 'tmp_checkpoint.h5')\n",
        "checkpoint = ModelCheckpoint(filename, monitor='val_loss', verbose=1, save_best_only=True, mode='auto')\n",
        "\n",
        "# model train\n",
        "history = model.fit(x_train, y_train, \n",
        "                                    epochs=5, \n",
        "                                    batch_size=10,\n",
        "                                    validation_data=(x_valid, y_valid), \n",
        "                                    callbacks=[early_stop, checkpoint])"
      ],
      "metadata": {
        "colab": {
          "base_uri": "https://localhost:8080/"
        },
        "id": "RtTtaQbofc-o",
        "outputId": "0db080a5-81df-4f52-f050-912e3b546e34"
      },
      "execution_count": null,
      "outputs": [
        {
          "output_type": "stream",
          "name": "stdout",
          "text": [
            "Epoch 1/5\n",
            "2402/2406 [============================>.] - ETA: 0s - loss: 7.3638e-05\n",
            "Epoch 00001: val_loss improved from inf to 0.00002, saving model to model/tmp_checkpoint.h5\n",
            "2406/2406 [==============================] - 26s 10ms/step - loss: 7.3524e-05 - val_loss: 1.5647e-05\n",
            "Epoch 2/5\n",
            "2404/2406 [============================>.] - ETA: 0s - loss: 1.7063e-05\n",
            "Epoch 00002: val_loss improved from 0.00002 to 0.00001, saving model to model/tmp_checkpoint.h5\n",
            "2406/2406 [==============================] - 17s 7ms/step - loss: 1.7066e-05 - val_loss: 1.1608e-05\n",
            "Epoch 3/5\n",
            "2401/2406 [============================>.] - ETA: 0s - loss: 1.4798e-05\n",
            "Epoch 00003: val_loss did not improve from 0.00001\n",
            "2406/2406 [==============================] - 17s 7ms/step - loss: 1.4802e-05 - val_loss: 2.4387e-05\n",
            "Epoch 4/5\n",
            "2401/2406 [============================>.] - ETA: 0s - loss: 1.3321e-05\n",
            "Epoch 00004: val_loss did not improve from 0.00001\n",
            "2406/2406 [==============================] - 18s 7ms/step - loss: 1.3299e-05 - val_loss: 1.2807e-05\n",
            "Epoch 5/5\n",
            "2404/2406 [============================>.] - ETA: 0s - loss: 1.1213e-05\n",
            "Epoch 00005: val_loss improved from 0.00001 to 0.00001, saving model to model/tmp_checkpoint.h5\n",
            "2406/2406 [==============================] - 18s 7ms/step - loss: 1.1205e-05 - val_loss: 9.2925e-06\n"
          ]
        }
      ]
    },
    {
      "cell_type": "code",
      "source": [
        "# save model weights\n",
        "model.load_weights(filename)\n",
        "\n",
        "# predict price\n",
        "pred = model.predict(test_feature)"
      ],
      "metadata": {
        "colab": {
          "base_uri": "https://localhost:8080/"
        },
        "id": "cULaygbvfehm",
        "outputId": "575db893-4c98-4c49-fcb0-dd8f58e7dcd9"
      },
      "execution_count": null,
      "outputs": [
        {
          "output_type": "execute_result",
          "data": {
            "text/plain": [
              "(7504, 1)"
            ]
          },
          "metadata": {},
          "execution_count": 13
        }
      ]
    },
    {
      "cell_type": "code",
      "source": [
        "# predict graph \n",
        "\"\"\"\n",
        "plt.figure(figsize=(20, 12))\n",
        "plt.plot(test_label[5000:], label = 'actual')\n",
        "plt.plot(pred[5000:], label = 'prediction')\n",
        "plt.legend()\n",
        "plt.show()\n",
        "\"\"\""
      ],
      "metadata": {
        "colab": {
          "base_uri": "https://localhost:8080/",
          "height": 35
        },
        "id": "tV-fjs8lfvc6",
        "outputId": "79ebff2f-8bae-4f09-85b2-13b86ba45944"
      },
      "execution_count": null,
      "outputs": [
        {
          "output_type": "execute_result",
          "data": {
            "application/vnd.google.colaboratory.intrinsic+json": {
              "type": "string"
            },
            "text/plain": [
              "\"\\nplt.figure(figsize=(20, 12))\\nplt.plot(test_label[5000:], label = 'actual')\\nplt.plot(pred[5000:], label = 'prediction')\\nplt.legend()\\nplt.show()\\n\""
            ]
          },
          "metadata": {},
          "execution_count": 14
        }
      ]
    },
    {
      "cell_type": "code",
      "source": [
        "# 종가 예측값\n",
        "def reverse_min_max_scaling(org_x, x): \n",
        "    org_x_np = np.asarray(org_x) \n",
        "    x_np = np.asarray(x)\n",
        "    return (x_np * (org_x_np.max() - org_x_np.min() + 1e-7)) + org_x_np.min()\n",
        "\n",
        "price = reverse_min_max_scaling(df[scale_cols_exvol], pred[-1])"
      ],
      "metadata": {
        "id": "Md5HVAgufxFE"
      },
      "execution_count": null,
      "outputs": []
    },
    {
      "cell_type": "code",
      "source": [
        "# 4h 전값과 비교하여 예측 변동률을 얻음\n",
        "pre_price = reverse_min_max_scaling(df[scale_cols_exvol], pred[-5])\n",
        "price_change = (pre_price[0]-price[0])/pre_price[0]*100\n",
        "print(price_change)"
      ],
      "metadata": {
        "colab": {
          "base_uri": "https://localhost:8080/"
        },
        "id": "-Pt8DOCKxWs1",
        "outputId": "72be6c78-e557-4623-eb6e-f92d0c93822f"
      },
      "execution_count": null,
      "outputs": [
        {
          "output_type": "execute_result",
          "data": {
            "text/plain": [
              "array([49592.15], dtype=float32)"
            ]
          },
          "metadata": {},
          "execution_count": 40
        }
      ]
    },
    {
      "cell_type": "markdown",
      "source": [
        "## 트윗 "
      ],
      "metadata": {
        "id": "cO21mdCOh0t1"
      }
    },
    {
      "cell_type": "code",
      "source": [
        "# model, tokenzier load\n",
        "def load_tokenizer(path):\n",
        "    with open(path, 'rb') as f:\n",
        "        tokenizer = pickle.load(f)\n",
        "    return tokenizer\n",
        "\n",
        "model_name = 'keras_tweet_timeline_trained_model.h5'\n",
        "tokenizer_name = 'keras_tweet_timeline_tokenizer.pickle'\n",
        "model_path = os.path.join('/content/drive/MyDrive/AI_bootcamp/CP1/', model_name)\n",
        "tokenizer_path = os.path.join('/content/drive/MyDrive/AI_bootcamp/CP1/', tokenizer_name)\n",
        "\n",
        "model = load_model(model_path)\n",
        "tokenizer = load_tokenizer(tokenizer_path)"
      ],
      "metadata": {
        "id": "uqJ0rrEOiAYL"
      },
      "execution_count": null,
      "outputs": []
    },
    {
      "cell_type": "code",
      "source": [
        "# 불용어 다운로드\n",
        "nltk.download('stopwords')"
      ],
      "metadata": {
        "colab": {
          "base_uri": "https://localhost:8080/"
        },
        "id": "terNA26viH32",
        "outputId": "e12c5a4a-4b1c-4e8f-b52f-41342ffa8996"
      },
      "execution_count": null,
      "outputs": [
        {
          "output_type": "stream",
          "name": "stdout",
          "text": [
            "[nltk_data] Downloading package stopwords to /root/nltk_data...\n",
            "[nltk_data]   Package stopwords is already up-to-date!\n"
          ]
        },
        {
          "output_type": "execute_result",
          "data": {
            "text/plain": [
              "True"
            ]
          },
          "metadata": {},
          "execution_count": 20
        }
      ]
    },
    {
      "cell_type": "code",
      "source": [
        "# list 최대 길이\n",
        "max_len=100\n",
        "\n",
        "# 불용어 set\n",
        "stop_words = set(stopwords.words('english'))\n",
        "\n",
        "# tweet timeline sentiment analysis\n",
        "def predict_sentiment_tweet(text, model):\n",
        "    tokens = []\n",
        "\n",
        "    text_split = text.split(\" \")\n",
        "\n",
        "    for x in text_split:\n",
        "      if x not in stop_words:\n",
        "        if \"@\" in x or \"https://\" in x or \"#\" in x:\n",
        "          pass\n",
        "        else:\n",
        "          tokens.append(x)\n",
        "\n",
        "    if len(tokens) == 0:\n",
        "      return 0.5\n",
        "    else:\n",
        "      tokens = tokenizer.texts_to_sequences(tokens)\n",
        "      x_test = pad_sequences(tokens, maxlen=max_len)\n",
        "      predict = model.predict(x_test)\n",
        "      if np.mean(predict) > 0.5: # 감정 분석 결과 총점 0.5 이상이면 Good으로 분류\n",
        "          return 1 # Good\n",
        "      else:\n",
        "          return 0 # Bad"
      ],
      "metadata": {
        "id": "dj-lwPsyiJBQ"
      },
      "execution_count": null,
      "outputs": []
    },
    {
      "cell_type": "code",
      "source": [
        "# twitter key, token\n",
        "twitter_api_key = 's\bsecret'\n",
        "twitter_api_secret_key = '\bsecret'\n",
        "twitter_access_token = '\bsecret'\n",
        "twitter_access_token_seret = '\bsecret'\n",
        "\n",
        "auth = tweepy.OAuthHandler(twitter_api_key, twitter_api_secret_key)\n",
        "auth.set_access_token(twitter_access_token,twitter_access_token_seret)\n",
        "\n",
        "api = tweepy.API(auth)\n",
        "\n",
        "# bitcoin influence twitter id \n",
        "# 베리실버트, 일론머스크, planB, 마이크로스트래지 ceo, techdev\n",
        "influencer_list = ['@BarrySilbert','@elonmusk','@100trillionUSD','@saylor','@TechDev_52']\n",
        "\n",
        "review_text = []\n",
        "\n",
        "# all influence's timeline list\n",
        "for tweet_id in influencer_list:\n",
        "  timeline_list = api.user_timeline(tweet_id, tweet_mode = 'extended')\n",
        "  for tweet in timeline_list:\n",
        "      review_text.append(tweet.full_text)\n",
        "\n",
        "score = []\n",
        "\n",
        "# 감정 분석 결과\n",
        "for sentence in review_text:\n",
        "  result = predict_sentiment_tweet(sentence, model)\n",
        "  score.append(result)\n",
        "\n",
        "total_result = np.mean(score)\n",
        "\n",
        "# 0.25 이상이면 good\n",
        "print(total_result)"
      ],
      "metadata": {
        "id": "IZpJzhJniKZE"
      },
      "execution_count": null,
      "outputs": []
    },
    {
      "cell_type": "markdown",
      "source": [
        "## 바이낸스 주문"
      ],
      "metadata": {
        "id": "I3KkYhOjikia"
      }
    },
    {
      "cell_type": "code",
      "source": [
        "# binance Key\n",
        "binance = ccxt.binance(config={\n",
        "    'apiKey': '\bsecret',\n",
        "    'secret': '\bsecret',\n",
        "    'enableRateLimit': True,\n",
        "    'options': {\n",
        "        'defaultType': 'future'\n",
        "    }\n",
        "})\n",
        "\n",
        "# ticker 및 leverage 설정\n",
        "markets = binance.load_markets()\n",
        "symbol = \"BTC/BUSD\"\n",
        "market = binance.market(symbol)\n",
        "leverage = 3\n",
        "\n",
        "resp = binance.fapiPrivate_post_leverage({\n",
        "    'symbol': market['id'],\n",
        "    'leverage': leverage\n",
        "})\n",
        "\n",
        "# 현재 BTC/BUSD 가격\n",
        "btc_live = binance.fetch_ticker(\"BTC/BUSD\")"
      ],
      "metadata": {
        "id": "ZZoiOTNev1K3"
      },
      "execution_count": null,
      "outputs": []
    },
    {
      "cell_type": "code",
      "source": [
        "# 무 포지션으로 시작\n",
        "position = { \"type\": None,\n",
        "             \"amount\": 0\n",
        "           }\n",
        "# 선물 계좌 현황\n",
        "balance = binance.fetch_balance(params={\"type\": \"future\"})\n",
        "\n",
        "# price change에 따라 long, short 주문\n",
        "def make_order(price_change):\n",
        "  # short, long position 결정 \n",
        "  if price_change >= 0 :\n",
        "    pred_input = \"buy\"\n",
        "  else:\n",
        "    pred_input = \"sell\"\n",
        "\n",
        "  # 주문\n",
        "  if pred_input == \"buy\":\n",
        "    position['type'] = \"long\"\n",
        "    order = binance.create_market_buy_order(\n",
        "        symbol=\"BTC/BUSD\",\n",
        "        amount=0.005,)\n",
        "    pprint.pprint(order['info'])\n",
        "    return \"매수 주문이 완료되었습니다.\"\n",
        "\n",
        "  elif pred_input == \"sell\":\n",
        "    position['type'] = \"short\"\n",
        "    order = binance.create_market_sell_order(\n",
        "        symbol=\"BTC/BUSD\",\n",
        "        amount=0.005,\n",
        "        )\n",
        "    pprint.pprint(order['info'])\n",
        "    return \"매도 주문이 완료되었습니다.\"\n",
        "\n",
        "\n",
        "# 결과에 따른 주문 \n",
        "print(f\"계좌 상황 : {balance['BUSD']}\")\n",
        "print(\"예상 가격 등락률 : \", round(price_change,4))\n",
        "print(make_order(price_change))"
      ],
      "metadata": {
        "id": "bQGf7r8V00uU"
      },
      "execution_count": null,
      "outputs": []
    },
    {
      "cell_type": "code",
      "source": [
        "# 등락 상, 하한 %\n",
        "price_low_limit = -3\n",
        "price_high_limit = 5\n",
        "\n",
        "# 트위터 감정 분석을 등락 상, 하한%에 가중치로 줌\n",
        "if total_result >= 0.25:\n",
        "  price_low_limit = price_low_limit*total_result\n",
        "  price_high_limit = price_high_limit*total_result\n",
        "else : \n",
        "  price_low_limit = price_low_limit-(price_low_limit*total_result)\n",
        "  price_high_limit = price_high_limit-(price_high_limit*total_result)\n",
        "\n",
        "# 각 포지션의 등락 상, 하한%\n",
        "if position['type'] == \"short\":\n",
        "  print(\"position : \", position['type'])\n",
        "  print(\"price_low_limit : \", -price_low_limit )\n",
        "  print(\"price_high_limit : \", -price_high_limit)\n",
        "  print(\"price_change : \", price_change)\n",
        "elif position['type'] == \"long\":\n",
        "  print(\"position : \", position['type'])\n",
        "  print(\"price_high_limit : \", price_high_limit)\n",
        "  print(\"price_low_limit : \", price_low_limit  )\n",
        "  print(\"price_change : \", price_change) \n",
        "\n",
        "# 포지션 종료 \n",
        "def end_position(price_change):\n",
        "  if position['type'] == \"long\": # Long position 일 때\n",
        "    position['type'] = None\n",
        "    order = binance.create_market_sell_order(\n",
        "      symbol=\"BTC/BUSD\",\n",
        "      amount=0.005,\n",
        "      )\n",
        "    pprint.pprint(order['info'])\n",
        "    return \"Long 포지션이 종료되었습니다.\"\n",
        "  elif position['type'] == \"short\": # Short position 일 때\n",
        "    position['type'] = None\n",
        "    order = binance.create_market_buy_order(\n",
        "      symbol=\"BTC/BUSD\",\n",
        "      amount=0.005,)\n",
        "    pprint.pprint(order['info'])\n",
        "    return \"Short 포지션이 종료되었습니다.\""
      ],
      "metadata": {
        "id": "jYCbtDdj-q4l"
      },
      "execution_count": null,
      "outputs": []
    },
    {
      "cell_type": "code",
      "source": [
        "# 현재 short 포지션을 가지고 있을 때\n",
        "if position['type'] == \"short\":\n",
        "  price_high_limit, price_low_limit = price_low_limit, price_high_limit\n",
        "  if (price_change < price_high_limit) or (price_change > price_low_limit):\n",
        "    end_position(price_change)\n",
        "    position['type'] == None\n",
        "    print(\"숏 포지션을 정리합니다.\")\n",
        "  else : \n",
        "    print(f\"큰 변동이 없어 현재 포지션 {position['type']}을 유지합니다.\") # 예측 등락률이 등락 상, 하한% 이내에 존재할 때\n",
        "\n",
        "# 현재 long 포지션을 가지고 있을 때\n",
        "elif position['type'] == \"long\":\n",
        "  if (price_change > price_high_limit) or (price_change < price_low_limit):\n",
        "    end_position(price_change)\n",
        "    position['type'] == None\n",
        "    print(\"롱 포지션을 정리합니다.\")\n",
        "  else : \n",
        "    print(f\"큰 변동이 없어 현재 포지션 {position['type']}을 유지합니다.\")\n",
        "\n",
        "else: \n",
        "  print(\"포지션이 없습니다.\")\n",
        "\n",
        "# 현재 선물 계좌 상태\n",
        "print(f\"계좌 상황 : {balance['BUSD']}\")"
      ],
      "metadata": {
        "id": "TGPSGK0cM0A9"
      },
      "execution_count": null,
      "outputs": []
    }
  ]
}